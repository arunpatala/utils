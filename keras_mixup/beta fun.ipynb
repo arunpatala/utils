{
 "cells": [
  {
   "cell_type": "code",
   "execution_count": 1,
   "metadata": {},
   "outputs": [],
   "source": [
    "import numpy as np\n",
    "from numpy.random import *\n",
    "import matplotlib.pyplot as plt\n",
    "%matplotlib inline"
   ]
  },
  {
   "cell_type": "code",
   "execution_count": 2,
   "metadata": {},
   "outputs": [],
   "source": [
    "def pm(N): return (random(N)<0.5)*2 - 1\n",
    "def betap(N, alpha=0.2): return  beta(alpha, alpha+1, N) \n",
    "def betan(N, alpha=0.2): return  -betap(N, alpha) \n",
    "def betapn(N, alpha=0.2): return  betap(N, alpha) * pm(N)\n",
    "def unifp(N, alpha=0.2): return (random(N)<alpha) * random(N)\n",
    "def unifn(N, alpha=0.2): return -unifp(N, alpha)\n",
    "def unifpn(N, alpha=0.2): return unifp(N, alpha) * pm(N)\n",
    "def binp(N, alpha=0.2): return (random(N)<alpha)\n",
    "def binn(N, alpha=0.2): return -1 * binp(N, alpha)\n",
    "def binpn(N, alpha=0.2): return binp(N, alpha) * pm(N)"
   ]
  },
  {
   "cell_type": "code",
   "execution_count": 4,
   "metadata": {},
   "outputs": [
    {
     "name": "stdout",
     "output_type": "stream",
     "text": [
      "betap 0.2 0.14212852279532381\n",
      "betapn 0.2 -0.0009558088415979171\n",
      "unifp 0.2 0.10058947538000292\n",
      "unifpn 0.2 -2.3789735894516397e-05\n",
      "binp 0.2 0.20074\n",
      "binpn 0.2 -0.00046\n"
     ]
    }
   ],
   "source": [
    "print(\"betap\", 0.2,  betap(100000).mean())\n",
    "print(\"betapn\", 0.2,  betapn(100000).mean())\n",
    "print(\"unifp\", 0.2,  unifp(100000).mean())\n",
    "print(\"unifpn\", 0.2,  unifpn(100000).mean())\n",
    "print(\"binp\", 0.2,  binp(100000).mean())\n",
    "print(\"binpn\", 0.2,  binpn(100000).mean())"
   ]
  },
  {
   "cell_type": "code",
   "execution_count": 7,
   "metadata": {},
   "outputs": [
    {
     "data": {
      "image/png": "[encoded data removed]",
      "text/plain": [
       "<matplotlib.figure.Figure at 0x10c7436a0>"
      ]
     },
     "metadata": {},
     "output_type": "display_data"
    }
   ],
   "source": [
    "\n",
    "plt.style.use('seaborn-deep')\n",
    "\n",
    "x = betapn(10000, 0.5)\n",
    "y = unifpn(10000, 0.5)\n",
    "z = binpn(10000, 0.5)\n",
    "data = np.vstack([x, y, z]).T\n",
    "bins = np.linspace(-1, 1, 10)\n",
    "\n",
    "plt.hist(data, bins, alpha=0.7, label=['beta', 'unif', 'bin'])\n",
    "plt.legend(loc='upper right')\n",
    "plt.show()\n"
   ]
  },
  {
   "cell_type": "code",
   "execution_count": 18,
   "metadata": {},
   "outputs": [],
   "source": [
    "def mixup(X, alpha, fun, X2=0, mode=None):\n",
    "    s = X.shape\n",
    "    if X2=='shuffle': X2 = X[permutation(len(X))]\n",
    "    if mode is not None:\n",
    "        if mode=='channel': s = s[:1] + tuple([1]*(len(s)-2)) + s[-1:]\n",
    "        else: s = s[:mode] + tuple([1]*(len(s)-mode))\n",
    "    print(\"mixup shape\", s)\n",
    "    return X + fun(s, alpha)*(X-X2)"
   ]
  },
  {
   "cell_type": "code",
   "execution_count": 9,
   "metadata": {},
   "outputs": [],
   "source": [
    "def shake_shake(X1, X2, mode=None):\n",
    "    return mixup(X1, 1.0, unifn, X2, mode=mode)\n",
    "def shake_shake_unbiased(X1, X2, mode=None):\n",
    "    return mixup(X1, 1.0, unifpn, X2, mode=mode)\n",
    "def shake_1branch(X, alpha, mode=None):\n",
    "    return mixup(X, alpha, unifp,  mode=mode)\n",
    "def shake_1branch_unbiased(X, alpha, mode=None):\n",
    "    return mixup(X, alpha, unifpn,  mode=mode)"
   ]
  },
  {
   "cell_type": "code",
   "execution_count": 10,
   "metadata": {},
   "outputs": [
    {
     "name": "stdout",
     "output_type": "stream",
     "text": [
      "mixup shape (50, 4, 3, 20)\n",
      "shake shake biased 0.49546292813775367\n",
      "mixup shape (50, 4, 3, 20)\n",
      "shake shake unbiased -0.004826973953150659\n"
     ]
    },
    {
     "name": "stderr",
     "output_type": "stream",
     "text": [
      "/Users/arunpatala/thenv/lib/python3.5/site-packages/ipykernel_launcher.py:3: FutureWarning: elementwise comparison failed; returning scalar instead, but in the future will perform elementwise comparison\n",
      "  This is separate from the ipykernel package so we can avoid doing imports until\n"
     ]
    }
   ],
   "source": [
    "print(\"shake shake biased\", shake_shake(np.zeros((50,4,3,20)), np.ones((50,4,3,20) )).mean())\n",
    "print(\"shake shake unbiased\", shake_shake_unbiased(np.zeros((50,4,3,20)), np.ones((50,4,3,20) )).mean())"
   ]
  },
  {
   "cell_type": "code",
   "execution_count": 11,
   "metadata": {},
   "outputs": [
    {
     "name": "stdout",
     "output_type": "stream",
     "text": [
      "mixup shape (50, 4, 3, 20)\n",
      "shake_1branch biased 1.1021411498604943\n",
      "mixup shape (50, 4, 3, 20)\n",
      "shake_1branch unbiased 1.000039117255055\n"
     ]
    }
   ],
   "source": [
    "print(\"shake_1branch biased\", shake_1branch(np.ones((50,4,3,20)), 0.2 ).mean())\n",
    "print(\"shake_1branch unbiased\", shake_1branch_unbiased(np.ones((50,4,3,20)), 0.2 ).mean())"
   ]
  },
  {
   "cell_type": "code",
   "execution_count": 12,
   "metadata": {},
   "outputs": [],
   "source": [
    "def stochastic_drop(X, alpha, mode=0):\n",
    "    return mixup(X, alpha, binn,  mode=mode)  \n",
    "def stochastic_drop_unbiased(X, alpha, mode=0):\n",
    "    return mixup(X, alpha, binpn,  mode=mode)    \n",
    "def shake_drop(X, alpha, mode=0):\n",
    "    return mixup(X, alpha, unifn,  mode=mode)  \n",
    "def shake_drop_unbiased(X, alpha, mode=0): \n",
    "    return mixup(X, alpha, unifpn,  mode=mode) "
   ]
  },
  {
   "cell_type": "code",
   "execution_count": 337,
   "metadata": {},
   "outputs": [
    {
     "name": "stdout",
     "output_type": "stream",
     "text": [
      "mixup shape (50, 4, 3, 20)\n",
      "stochastic_drop biased 0.8013333333333333\n",
      "mixup shape (50, 4, 3, 20)\n",
      "stochastic_drop unbiased 0.99575\n"
     ]
    },
    {
     "data": {
      "image/png": "[encoded data removed]",
      "text/plain": [
       "<matplotlib.figure.Figure at 0x7fdc708139e8>"
      ]
     },
     "metadata": {},
     "output_type": "display_data"
    }
   ],
   "source": [
    "X = stochastic_drop(np.ones((50,4,3,20)), 0.2 , mode=None)\n",
    "plt.hist(X.flatten());\n",
    "print(\"stochastic_drop biased\", X.mean())\n",
    "X = stochastic_drop_unbiased(np.ones((50,4,3,20)), 0.2 , mode=None)\n",
    "plt.hist(X.flatten());\n",
    "print(\"stochastic_drop unbiased\", X.mean())"
   ]
  },
  {
   "cell_type": "code",
   "execution_count": 13,
   "metadata": {},
   "outputs": [
    {
     "name": "stdout",
     "output_type": "stream",
     "text": [
      "mixup shape (50, 4, 3, 20)\n",
      "shake_drop 0.9041457628381019\n",
      "mixup shape (50, 4, 3, 20)\n",
      "shake_drop_unbiased 0.9987142914057213\n"
     ]
    },
    {
     "data": {
      "image/png": "[encoded data removed]",
      "text/plain": [
       "<matplotlib.figure.Figure at 0x10af73f98>"
      ]
     },
     "metadata": {},
     "output_type": "display_data"
    }
   ],
   "source": [
    "\n",
    "X = shake_drop(np.ones((50,4,3,20)), 0.2 , mode=None)\n",
    "plt.hist(X.flatten());\n",
    "print(\"shake_drop\", X.mean())\n",
    "X = shake_drop_unbiased(np.ones((50,4,3,20)), 0.2 , mode=None)\n",
    "plt.hist(X.flatten(), bins=15);\n",
    "print(\"shake_drop_unbiased\", X.mean())"
   ]
  },
  {
   "cell_type": "code",
   "execution_count": 14,
   "metadata": {},
   "outputs": [],
   "source": [
    "def mixup_layer(X1, alpha, X2='shuffle', mode=1):\n",
    "    return mixup(X1, alpha, betan, X2=X2, mode=mode)\n",
    "def mixup_layer_unbiased(X1, alpha, X2='shuffle', mode=1):\n",
    "    return mixup(X1, alpha, betapn, X2=X2, mode=mode)"
   ]
  },
  {
   "cell_type": "code",
   "execution_count": 15,
   "metadata": {},
   "outputs": [
    {
     "name": "stderr",
     "output_type": "stream",
     "text": [
      "/Users/arunpatala/thenv/lib/python3.5/site-packages/ipykernel_launcher.py:3: FutureWarning: elementwise comparison failed; returning scalar instead, but in the future will perform elementwise comparison\n",
      "  This is separate from the ipykernel package so we can avoid doing imports until\n"
     ]
    },
    {
     "name": "stdout",
     "output_type": "stream",
     "text": [
      "mixup shape (50, 4, 1, 1)\n",
      "mixup biased 0.8606771267567307\n",
      "mixup shape (50, 4, 1, 1)\n",
      "mixup unbiaed 0.9903530479955304\n"
     ]
    },
    {
     "data": {
      "image/png": "[encoded data removed]",
      "text/plain": [
       "<matplotlib.figure.Figure at 0x10c98aef0>"
      ]
     },
     "metadata": {},
     "output_type": "display_data"
    }
   ],
   "source": [
    "X = np.ones((50,4,3,20))\n",
    "X = mixup(X, 0.2, betan, X2=np.zeros((50,4,3,20)), mode=2)\n",
    "plt.hist(X.flatten(), bins=15);\n",
    "print(\"mixup biased\", X.mean())\n",
    "X = np.ones((50,4,3,20))\n",
    "X = mixup(X, 0.2, betapn, X2=np.zeros((50,4,3,20)), mode=2)\n",
    "plt.hist(X.flatten(), bins=30);\n",
    "print(\"mixup unbiaed\", X.mean())"
   ]
  },
  {
   "cell_type": "code",
   "execution_count": 16,
   "metadata": {},
   "outputs": [],
   "source": [
    "def dropout(X1, alpha, mode='channel'):\n",
    "    return mixup(X1, alpha, binn, mode=mode)\n",
    "def dropout_unbiased(X1, alpha, mode='channel'):\n",
    "    return mixup(X1, alpha, binpn, mode=mode)\n",
    "def dropout_unif(X1, alpha, mode='channel'):\n",
    "    return mixup(X1, alpha, unifpn, mode=mode)\n",
    "def dropout_beta(X1, alpha, mode='channel'):\n",
    "    return mixup(X1, alpha, betapn, mode=mode)"
   ]
  },
  {
   "cell_type": "code",
   "execution_count": 17,
   "metadata": {},
   "outputs": [
    {
     "name": "stdout",
     "output_type": "stream",
     "text": [
      "mixup shape (50, 20)\n",
      "mixup biased 0.838\n",
      "mixup shape (50, 20)\n",
      "mixup unbiased 0.999\n",
      "mixup shape (50, 20)\n",
      "mixup unif unbiased 0.9991632073619223\n",
      "mixup shape (50, 20)\n",
      "mixup beta unbiased 0.9950537164318422\n"
     ]
    },
    {
     "data": {
      "image/png": "[encoded data removed]",
      "text/plain": [
       "<matplotlib.figure.Figure at 0x10caa6b00>"
      ]
     },
     "metadata": {},
     "output_type": "display_data"
    }
   ],
   "source": [
    "X = np.ones((50,20))\n",
    "X = dropout(X, 0.2)\n",
    "plt.hist(X.flatten(), bins=15);\n",
    "print(\"mixup biased\", X.mean())\n",
    "\n",
    "X = np.ones((50,20))\n",
    "X = dropout_unbiased(X, 0.2)\n",
    "plt.hist(X.flatten(), bins=15);\n",
    "print(\"mixup unbiased\", X.mean())\n",
    "\n",
    "X = np.ones((50,20))\n",
    "X = dropout_unif(X, 0.2)\n",
    "plt.hist(X.flatten(), bins=15);\n",
    "print(\"mixup unif unbiased\", X.mean())\n",
    "\n",
    "X = np.ones((50,20))\n",
    "X = dropout_beta(X, 0.2)\n",
    "plt.hist(X.flatten(), bins=15);\n",
    "print(\"mixup beta unbiased\", X.mean())"
   ]
  },
  {
   "cell_type": "code",
   "execution_count": null,
   "metadata": {},
   "outputs": [],
   "source": []
  }
 ],
 "metadata": {
  "kernelspec": {
   "display_name": "Python 3",
   "language": "python",
   "name": "python3"
  },
  "language_info": {
   "codemirror_mode": {
    "name": "ipython",
    "version": 3
   },
   "file_extension": ".py",
   "mimetype": "text/x-python",
   "name": "python",
   "nbconvert_exporter": "python",
   "pygments_lexer": "ipython3",
   "version": "3.5.2"
  }
 },
 "nbformat": 4,
 "nbformat_minor": 2
}
