{
 "cells": [
  {
   "cell_type": "code",
   "execution_count": 2,
   "metadata": {},
   "outputs": [],
   "source": [
    "import torch as th\n",
    "import matplotlib.pyplot as plt\n",
    "%matplotlib inline\n",
    "import numpy"
   ]
  },
  {
   "cell_type": "code",
   "execution_count": 10,
   "metadata": {},
   "outputs": [],
   "source": [
    "def random(N): return th.rand(N)\n",
    "def pm(N): return (random(N)<0.5).float()*2 - 1\n",
    "def betap(N, alpha=0.2): return  th.from_numpy(numpy.random.beta(alpha, alpha+1, N)).float()\n",
    "def betan(N, alpha=0.2): return  -betap(N, alpha) \n",
    "def betapn(N, alpha=0.2): return  betap(N, alpha) * pm(N)\n",
    "def unifp(N, alpha=0.2): return (random(N)<alpha).float() * random(N)\n",
    "def unifn(N, alpha=0.2): return -unifp(N, alpha)\n",
    "def unifpn(N, alpha=0.2): return unifp(N, alpha) * pm(N)\n",
    "def binp(N, alpha=0.2): return (random(N)<alpha).float()\n",
    "def binn(N, alpha=0.2): return -1 * binp(N, alpha)\n",
    "def binpn(N, alpha=0.2): return binp(N, alpha) * pm(N)"
   ]
  },
  {
   "cell_type": "code",
   "execution_count": 11,
   "metadata": {},
   "outputs": [
    {
     "name": "stdout",
     "output_type": "stream",
     "text": [
      "betap 0.2 0.14234353120912355\n",
      "betapn 0.2 0.0006852744790219107\n",
      "unifp 0.2 0.10063080361664295\n",
      "unifpn 0.2 0.0012106143492460252\n",
      "binp 0.2 0.1985\n",
      "binpn 0.2 -0.00046\n"
     ]
    }
   ],
   "source": [
    "print(\"betap\", 0.2,  betap(100000).mean())\n",
    "print(\"betapn\", 0.2,  betapn(100000).mean())\n",
    "print(\"unifp\", 0.2,  unifp(100000).mean())\n",
    "print(\"unifpn\", 0.2,  unifpn(100000).mean())\n",
    "print(\"binp\", 0.2,  binp(100000).mean())\n",
    "print(\"binpn\", 0.2,  binpn(100000).mean())"
   ]
  },
  {
   "cell_type": "code",
   "execution_count": 17,
   "metadata": {},
   "outputs": [
    {
     "data": {
      "image/png": "[encoded data removed]",
      "text/plain": [
       "<matplotlib.figure.Figure at 0x105bd9f98>"
      ]
     },
     "metadata": {},
     "output_type": "display_data"
    }
   ],
   "source": [
    "import numpy as np\n",
    "plt.style.use('seaborn-deep')\n",
    "\n",
    "x = betapn(10000, 0.5).numpy()\n",
    "y = unifpn(10000, 0.5).numpy()\n",
    "z = binpn(10000, 0.5).numpy()\n",
    "data = np.vstack([x, y, z]).T\n",
    "bins = np.linspace(-1, 1, 11)\n",
    "\n",
    "plt.hist(data, bins, alpha=0.7, label=[ 'beta', 'unif', 'bin'])\n",
    "plt.legend(loc='upper right')\n",
    "plt.show()\n"
   ]
  },
  {
   "cell_type": "code",
   "execution_count": 102,
   "metadata": {},
   "outputs": [],
   "source": [
    "def mixup(X, alpha, fun, X2=0, mode=None, shuffle=False):\n",
    "    s = X.shape\n",
    "    if shuffle: X2 = X[th.randperm(len(X))]\n",
    "    if mode is not None:\n",
    "        if mode=='channel': s = s[:1] + tuple([1]*(len(s)-2)) + s[-1:]\n",
    "        else: s = s[:mode] + tuple([1]*(len(s)-mode))\n",
    "    #print(\"mixup shape\", s)\n",
    "    P = fun(s, alpha)\n",
    "    X12 = (X-X2)\n",
    "    X12 = Variable(P, requires_grad=False) * X12\n",
    "    return X + X12"
   ]
  },
  {
   "cell_type": "code",
   "execution_count": 30,
   "metadata": {},
   "outputs": [],
   "source": [
    "def shake_shake(X1, X2, mode=None):\n",
    "    return mixup(X1, 1.0, unifn, X2, mode=mode)\n",
    "def shake_shake_unbiased(X1, X2, mode=None):\n",
    "    return mixup(X1, 1.0, unifpn, X2, mode=mode)\n",
    "def shake_1branch(X, alpha, mode=None):\n",
    "    return mixup(X, alpha, unifp,  mode=mode)\n",
    "def shake_1branch_unbiased(X, alpha, mode=None):\n",
    "    return mixup(X, alpha, unifpn,  mode=mode)"
   ]
  },
  {
   "cell_type": "code",
   "execution_count": 31,
   "metadata": {},
   "outputs": [
    {
     "data": {
      "text/plain": [
       "'torch.FloatTensor'"
      ]
     },
     "execution_count": 31,
     "metadata": {},
     "output_type": "execute_result"
    }
   ],
   "source": [
    "th.zeros((50,4,3,20)).type()"
   ]
  },
  {
   "cell_type": "code",
   "execution_count": 33,
   "metadata": {},
   "outputs": [
    {
     "name": "stdout",
     "output_type": "stream",
     "text": [
      "mixup shape torch.Size([50, 4, 3, 20])\n"
     ]
    },
    {
     "data": {
      "text/plain": [
       "0.5001746127953132"
      ]
     },
     "execution_count": 33,
     "metadata": {},
     "output_type": "execute_result"
    }
   ],
   "source": [
    "shake_shake(th.zeros((50,4,3,20)), th.ones((50,4,3,20))).mean()"
   ]
  },
  {
   "cell_type": "code",
   "execution_count": 36,
   "metadata": {},
   "outputs": [
    {
     "name": "stdout",
     "output_type": "stream",
     "text": [
      "mixup shape torch.Size([50, 4, 3, 20])\n"
     ]
    },
    {
     "data": {
      "text/plain": [
       "-0.0018137425780296325"
      ]
     },
     "execution_count": 36,
     "metadata": {},
     "output_type": "execute_result"
    }
   ],
   "source": [
    "shake_shake_unbiased(th.zeros((50,4,3,20)), th.ones((50,4,3,20))).mean()"
   ]
  },
  {
   "cell_type": "code",
   "execution_count": 38,
   "metadata": {},
   "outputs": [
    {
     "name": "stdout",
     "output_type": "stream",
     "text": [
      "mixup shape torch.Size([50, 4, 3, 20])\n",
      "shake_1branch biased 1.0980370949407419\n",
      "mixup shape torch.Size([50, 4, 3, 20])\n",
      "shake_1branch unbiased 1.0016593301395575\n"
     ]
    }
   ],
   "source": [
    "print(\"shake_1branch biased\", shake_1branch(th.ones((50,4,3,20)), 0.2 ).mean())\n",
    "print(\"shake_1branch unbiased\", shake_1branch_unbiased(th.ones((50,4,3,20)), 0.2 ).mean())"
   ]
  },
  {
   "cell_type": "code",
   "execution_count": 39,
   "metadata": {},
   "outputs": [],
   "source": [
    "def stochastic_drop(X, alpha, mode=0):\n",
    "    return mixup(X, alpha, binn,  mode=mode)  \n",
    "def stochastic_drop_unbiased(X, alpha, mode=0):\n",
    "    return mixup(X, alpha, binpn,  mode=mode)    \n",
    "def shake_drop(X, alpha, mode=0):\n",
    "    return mixup(X, alpha, unifn,  mode=mode)  \n",
    "def shake_drop_unbiased(X, alpha, mode=0): \n",
    "    return mixup(X, alpha, unifpn,  mode=mode) "
   ]
  },
  {
   "cell_type": "code",
   "execution_count": 42,
   "metadata": {},
   "outputs": [
    {
     "name": "stdout",
     "output_type": "stream",
     "text": [
      "mixup shape torch.Size([50, 4, 3, 20])\n",
      "stochastic_drop biased 0.81075\n",
      "mixup shape torch.Size([50, 4, 3, 20])\n",
      "stochastic_drop unbiased 1.0061666666666667\n"
     ]
    },
    {
     "data": {
      "image/png": "[encoded data removed]",
      "text/plain": [
       "<matplotlib.figure.Figure at 0x105d9f3c8>"
      ]
     },
     "metadata": {},
     "output_type": "display_data"
    }
   ],
   "source": [
    "X = stochastic_drop(th.ones((50,4,3,20)), 0.2 , mode=None)\n",
    "plt.hist(X.view(-1));\n",
    "print(\"stochastic_drop biased\", X.mean())\n",
    "X = stochastic_drop_unbiased(th.ones((50,4,3,20)), 0.2 , mode=None)\n",
    "plt.hist(X.view(-1));\n",
    "print(\"stochastic_drop unbiased\", X.mean())"
   ]
  },
  {
   "cell_type": "code",
   "execution_count": 43,
   "metadata": {},
   "outputs": [
    {
     "name": "stdout",
     "output_type": "stream",
     "text": [
      "mixup shape torch.Size([50, 4, 3, 20])\n",
      "shake_drop 0.8983780889908473\n",
      "mixup shape torch.Size([50, 4, 3, 20])\n",
      "shake_drop_unbiased 0.9957496534685294\n"
     ]
    },
    {
     "data": {
      "image/png": "[encoded data removed]",
      "text/plain": [
       "<matplotlib.figure.Figure at 0x105945c50>"
      ]
     },
     "metadata": {},
     "output_type": "display_data"
    }
   ],
   "source": [
    "\n",
    "X = shake_drop(th.ones((50,4,3,20)), 0.2 , mode=None)\n",
    "plt.hist(X.view(-1));\n",
    "print(\"shake_drop\", X.mean())\n",
    "X = shake_drop_unbiased(th.ones((50,4,3,20)), 0.2 , mode=None)\n",
    "plt.hist(X.view(-1), bins=15);\n",
    "print(\"shake_drop_unbiased\", X.mean())"
   ]
  },
  {
   "cell_type": "code",
   "execution_count": 106,
   "metadata": {},
   "outputs": [],
   "source": [
    "def mixup_layer(X1, alpha,  mode=1, shuffle=True):\n",
    "    return mixup(X1, alpha, betan,  mode=mode)\n",
    "def mixup_layer_unbiased(X1, alpha, mode=1, shuffle=True):\n",
    "    return mixup(X1, alpha, betapn,  mode=mode, shuffle=shuffle)"
   ]
  },
  {
   "cell_type": "code",
   "execution_count": 109,
   "metadata": {},
   "outputs": [
    {
     "name": "stdout",
     "output_type": "stream",
     "text": [
      "torch.Size([50, 4, 3, 20])\n"
     ]
    }
   ],
   "source": [
    "X = th.ones((50,4,3,20))\n",
    "X = mixup_layer_unbiased(Variable(X), 0.2)\n",
    "print(X.shape)\n"
   ]
  },
  {
   "cell_type": "code",
   "execution_count": 110,
   "metadata": {},
   "outputs": [
    {
     "data": {
      "text/plain": [
       "Variable containing:\n",
       " 1\n",
       "[torch.FloatTensor of size 1]"
      ]
     },
     "execution_count": 110,
     "metadata": {},
     "output_type": "execute_result"
    }
   ],
   "source": [
    "X.mean()"
   ]
  },
  {
   "cell_type": "code",
   "execution_count": 46,
   "metadata": {},
   "outputs": [],
   "source": [
    "def dropout(X1, alpha, mode='channel'):\n",
    "    return mixup(X1, alpha, binn, mode=mode)\n",
    "def dropout_unbiased(X1, alpha, mode='channel'):\n",
    "    return mixup(X1, alpha, binpn, mode=mode)\n",
    "def dropout_unif(X1, alpha, mode='channel'):\n",
    "    return mixup(X1, alpha, unifpn, mode=mode)\n",
    "def dropout_beta(X1, alpha, mode='channel'):\n",
    "    return mixup(X1, alpha, betapn, mode=mode)"
   ]
  },
  {
   "cell_type": "code",
   "execution_count": null,
   "metadata": {},
   "outputs": [],
   "source": [
    "X = th.ones((50,20))\n",
    "X = dropout(X, 0.2)\n",
    "plt.hist(X.view(-1), bins=15);\n",
    "print(\"mixup biased\", X.mean())"
   ]
  },
  {
   "cell_type": "code",
   "execution_count": 50,
   "metadata": {},
   "outputs": [
    {
     "name": "stdout",
     "output_type": "stream",
     "text": [
      "mixup shape torch.Size([50, 20])\n",
      "mixup biased 0.821\n",
      "mixup shape torch.Size([50, 20])\n",
      "mixup unbiased 1.001\n",
      "mixup shape torch.Size([50, 20])\n",
      "mixup unif unbiased 0.990348243355751\n",
      "mixup shape torch.Size([50, 20])\n",
      "mixup beta unbiased 0.9912717171907425\n"
     ]
    },
    {
     "data": {
      "image/png": "[encoded data removed]",
      "text/plain": [
       "<matplotlib.figure.Figure at 0x10600fcc0>"
      ]
     },
     "metadata": {},
     "output_type": "display_data"
    }
   ],
   "source": [
    "X = th.ones((50,20))\n",
    "X = dropout(X, 0.2)\n",
    "plt.hist(X.view(-1), bins=15);\n",
    "print(\"mixup biased\", X.mean())\n",
    "\n",
    "X = th.ones((50,20))\n",
    "X = dropout_unbiased(X, 0.2)\n",
    "plt.hist(X.view(-1), bins=15);\n",
    "print(\"mixup unbiased\", X.mean())\n",
    "\n",
    "X = th.ones((50,20))\n",
    "X = dropout_unif(X, 0.2)\n",
    "plt.hist(X.view(-1), bins=15);\n",
    "print(\"mixup unif unbiased\", X.mean())\n",
    "\n",
    "X = th.ones((50,20))\n",
    "X = dropout_beta(X, 0.2)\n",
    "plt.hist(X.view(-1), bins=15);\n",
    "print(\"mixup beta unbiased\", X.mean())"
   ]
  },
  {
   "cell_type": "code",
   "execution_count": 51,
   "metadata": {},
   "outputs": [
    {
     "name": "stderr",
     "output_type": "stream",
     "text": [
      "/Users/arunpatala/thenv/lib/python3.5/site-packages/h5py/__init__.py:36: FutureWarning: Conversion of the second argument of issubdtype from `float` to `np.floating` is deprecated. In future, it will be treated as `np.float64 == np.dtype(float).type`.\n",
      "  from ._conv import register_converters as _register_converters\n"
     ]
    }
   ],
   "source": [
    "import torchsample as ts"
   ]
  },
  {
   "cell_type": "code",
   "execution_count": null,
   "metadata": {},
   "outputs": [
    {
     "name": "stderr",
     "output_type": "stream",
     "text": [
      "  0%|          | 0/1875 [00:00<?, ? batches/s]/Users/arunpatala/thenv/lib/python3.5/site-packages/ipykernel_launcher.py:62: UserWarning: Implicit dimension choice for log_softmax has been deprecated. Change the call to include dim=X as an argument.\n",
      "Epoch 1/60: 1876 batches [01:26,  1.97 batches/s, loss=0.14, lr=[1.0], val_acc=98.47, val_loss=0.0573, acc=93.22]\n",
      "Epoch 2/60: 1876 batches [01:47, 17.37 batches/s, loss=0.0183, lr=[1.0], val_acc=98.97, val_loss=0.04, acc=95.79]\n",
      "Epoch 3/60: 1876 batches [01:57,  1.03s/ batches, loss=0.0302, lr=[1.0], val_acc=98.98, val_loss=0.0448, acc=96.06]\n",
      "Epoch 4/60: 1876 batches [01:58,  1.04 batches/s, loss=0.0704, lr=[1.0], val_acc=99.02, val_loss=0.0336, acc=96.20]\n",
      "Epoch 5/60: 1876 batches [01:51,  1.46 batches/s, loss=0.00952, lr=[1.0], val_acc=99.05, val_loss=0.0421, acc=96.36]\n",
      "Epoch 6/60: 1876 batches [01:51, 16.76 batches/s, loss=0.0363, lr=[1.0], val_acc=98.90, val_loss=0.0383, acc=96.28]\n",
      "Epoch 7/60: 1876 batches [01:51,  1.74 batches/s, loss=0.271, lr=[1.0], val_acc=98.91, val_loss=0.0367, acc=96.31]\n",
      "Epoch 8/60: 1876 batches [2:10:43,  1.92 batches/s, loss=0.121, lr=[1.0], val_acc=99.17, val_loss=0.0349, acc=96.33]\n",
      "Epoch 9/60: 1876 batches [1:49:16, 30.41s/ batches, loss=0.0343, lr=[1.0], val_acc=99.04, val_loss=0.0312, acc=96.54]\n",
      "Epoch 10/60: 1876 batches [2:39:15, 443.23s/ batches, loss=0.0614, lr=[1.0], val_acc=99.17, val_loss=0.0319, acc=96.47]\n",
      "Epoch 11/60: 1876 batches [1:51:26,  1.82 batches/s, loss=0.257, lr=[1.0], val_acc=99.01, val_loss=0.0398, acc=96.55]\n",
      "Epoch 12/60: 1876 batches [01:37,  1.74 batches/s, loss=0.153, lr=[1.0], val_acc=99.10, val_loss=0.0321, acc=96.51]\n",
      "Epoch 13/60: 1876 batches [01:34,  1.86 batches/s, loss=0.0356, lr=[1.0], val_acc=99.09, val_loss=0.0395, acc=96.38]\n",
      "Epoch 14/60: 1876 batches [01:45, 17.86 batches/s, loss=0.0637, lr=[1.0], val_acc=99.17, val_loss=0.0299, acc=96.52]\n",
      "Epoch 15/60: 1876 batches [01:36, 19.48 batches/s, loss=0.138, lr=[1.0], val_acc=99.06, val_loss=0.0294, acc=96.60]\n",
      "Epoch 16/60: 1876 batches [01:43, 18.12 batches/s, loss=0.114, lr=[1.0], val_acc=99.17, val_loss=0.0293, acc=96.61]\n",
      "Epoch 17/60: 1876 batches [01:42, 18.35 batches/s, loss=0.226, lr=[1.0], val_acc=99.12, val_loss=0.0279, acc=96.45]\n",
      "Epoch 18/60: 1876 batches [01:37,  1.86 batches/s, loss=0.323, lr=[1.0], val_acc=99.05, val_loss=0.039, acc=96.53]\n",
      "Epoch 19/60: 1876 batches [01:42,  1.71 batches/s, loss=0.0996, lr=[1.0], val_acc=99.16, val_loss=0.0284, acc=96.60]\n",
      "Epoch 20/60: 1876 batches [01:34, 19.88 batches/s, loss=0.0474, lr=[1.0], val_acc=99.12, val_loss=0.0294, acc=96.56]\n",
      "Epoch 21/60: 1876 batches [01:29,  2.06 batches/s, loss=0.103, lr=[1.0], val_acc=99.08, val_loss=0.0305, acc=96.45]\n",
      "Epoch 22/60: 1876 batches [01:34,  1.91 batches/s, loss=0.0704, lr=[1.0], val_acc=99.09, val_loss=0.0299, acc=96.62]\n",
      "Epoch 23/60: 1876 batches [01:34,  1.68 batches/s, loss=0.014, lr=[1.0], val_acc=99.06, val_loss=0.0328, acc=96.49]\n",
      "Epoch 24/60: 1876 batches [01:37,  1.80 batches/s, loss=0.12, lr=[0.5], val_acc=99.28, val_loss=0.0265, acc=96.84]\n",
      "Epoch 25/60: 1876 batches [01:40,  1.17 batches/s, loss=0.199, lr=[0.5], val_acc=99.20, val_loss=0.0279, acc=96.76]\n",
      "Epoch 26/60: 1876 batches [01:37, 19.23 batches/s, loss=0.1, lr=[0.5], val_acc=99.14, val_loss=0.0252, acc=96.63]\n",
      "Epoch 27/60: 1876 batches [01:37,  1.67 batches/s, loss=0.247, lr=[0.5], val_acc=99.06, val_loss=0.033, acc=96.78]\n",
      "Epoch 28/60: 1876 batches [02:04, 15.07 batches/s, loss=0.0176, lr=[0.5], val_acc=99.16, val_loss=0.0292, acc=96.80]\n",
      "Epoch 29/60: 1876 batches [01:54,  1.48s/ batches, loss=0.049, lr=[0.5], val_acc=99.10, val_loss=0.029, acc=96.81]\n",
      "Epoch 30/60: 1876 batches [01:59,  1.40 batches/s, loss=0.065, lr=[0.5], val_acc=99.12, val_loss=0.0281, acc=96.81]\n",
      "Epoch 31/60: 1876 batches [01:56,  1.04s/ batches, loss=0.0322, lr=[0.5], val_acc=99.14, val_loss=0.0301, acc=96.86]\n",
      "Epoch 32/60: 1876 batches [02:05, 14.98 batches/s, loss=0.0314, lr=[0.5], val_acc=99.03, val_loss=0.0337, acc=96.78]\n",
      "Epoch 33/60: 1876 batches [02:02, 15.29 batches/s, loss=0.0622, lr=[0.25], val_acc=99.12, val_loss=0.0293, acc=96.86]\n",
      "Epoch 34/60: 1876 batches [02:24, 12.96 batches/s, loss=0.215, lr=[0.25], val_acc=99.13, val_loss=0.0274, acc=96.82]\n",
      "Epoch 35/60: 1876 batches [01:55,  1.02s/ batches, loss=0.127, lr=[0.25], val_acc=99.14, val_loss=0.0276, acc=96.84]\n",
      "Epoch 36/60: 1876 batches [01:48, 17.29 batches/s, loss=0.0419, lr=[0.25], val_acc=99.19, val_loss=0.0271, acc=96.85]\n",
      "Epoch 37/60: 1876 batches [01:48,  1.55 batches/s, loss=0.189, lr=[0.25], val_acc=99.26, val_loss=0.0254, acc=96.81]\n",
      "Epoch 38/60: 1876 batches [01:49,  1.52 batches/s, loss=0.312, lr=[0.125], val_acc=99.24, val_loss=0.0245, acc=96.87]\n",
      "Epoch 39/60: 1876 batches [01:48,  1.59 batches/s, loss=0.00674, lr=[0.125], val_acc=99.23, val_loss=0.0262, acc=96.78]\n",
      "Epoch 40/60: 1876 batches [01:48, 17.22 batches/s, loss=0.23, lr=[0.125], val_acc=99.23, val_loss=0.0257, acc=96.86]\n",
      "Epoch 41/60: 1876 batches [01:48, 17.30 batches/s, loss=0.175, lr=[0.125], val_acc=99.24, val_loss=0.0248, acc=96.90]\n",
      "Epoch 42/60: 1876 batches [01:49,  1.05 batches/s, loss=0.00488, lr=[0.125], val_acc=99.24, val_loss=0.0257, acc=96.84]\n",
      "Epoch 43/60: 1876 batches [01:48, 17.27 batches/s, loss=0.01, lr=[0.125], val_acc=99.24, val_loss=0.0282, acc=96.87]\n",
      "Epoch 44/60: 1876 batches [01:49,  1.02 batches/s, loss=0.013, lr=[0.125], val_acc=99.21, val_loss=0.0249, acc=96.87]\n",
      "Epoch 45/60: 1876 batches [01:50,  1.48 batches/s, loss=0.249, lr=[0.0625], val_acc=99.23, val_loss=0.0257, acc=96.98]\n",
      "Epoch 46/60:  39%|███▉      | 739/1875 [00:43<00:57, 19.90 batches/s, loss=0.1160, acc=96.94]"
     ]
    }
   ],
   "source": [
    "import torch as th\n",
    "import torch.nn as nn\n",
    "import torch.nn.functional as F\n",
    "\n",
    "from torch.utils.data import DataLoader\n",
    "\n",
    "from torchsample.modules import ModuleTrainer\n",
    "from torchsample.callbacks import EarlyStopping, ReduceLROnPlateau\n",
    "from torchsample.regularizers import L1Regularizer, L2Regularizer\n",
    "from torchsample.constraints import UnitNorm\n",
    "from torchsample.initializers import XavierUniform\n",
    "from torchsample.metrics import CategoricalAccuracy\n",
    "from torchsample import TensorDataset\n",
    "from torch.autograd import Variable\n",
    "\n",
    "import os\n",
    "from torchvision import datasets\n",
    "ROOT = 'mnist'\n",
    "dataset = datasets.MNIST(ROOT, train=True, download=True)\n",
    "x_train, y_train = th.load(os.path.join(dataset.root, 'processed/training.pt'))\n",
    "x_test, y_test = th.load(os.path.join(dataset.root, 'processed/test.pt'))\n",
    "\n",
    "x_train = x_train.float()\n",
    "y_train = y_train.long()\n",
    "x_test = x_test.float()\n",
    "y_test = y_test.long()\n",
    "\n",
    "x_train = x_train / 255.\n",
    "x_test = x_test / 255.\n",
    "x_train = x_train.unsqueeze(1)\n",
    "x_test = x_test.unsqueeze(1)\n",
    "\n",
    "# only train on a subset\n",
    "#x_train = x_train[:10000]\n",
    "#y_train = y_train[:10000]\n",
    "#x_test = x_test[:1000]\n",
    "#y_test = y_test[:1000]\n",
    "\n",
    "train_dataset = TensorDataset(x_train, y_train)\n",
    "train_loader = DataLoader(train_dataset, batch_size=32)\n",
    "val_dataset = TensorDataset(x_test, y_test)\n",
    "val_loader = DataLoader(val_dataset, batch_size=32)\n",
    "\n",
    "# Define your model EXACTLY as if you were using nn.Module\n",
    "class Network(nn.Module):\n",
    "    def __init__(self):\n",
    "        super(Network, self).__init__()\n",
    "        self.conv1 = nn.Conv2d(1, 32, kernel_size=3)\n",
    "        self.conv2 = nn.Conv2d(32, 64, kernel_size=3)\n",
    "        self.fc1 = nn.Linear(1600, 128)\n",
    "        self.fc2 = nn.Linear(128, 10)\n",
    "\n",
    "    def forward(self, x):\n",
    "        if self.training: x = mixup_layer_unbiased(x, 0.1)\n",
    "        x = F.relu(F.max_pool2d(self.conv1(x), 2))\n",
    "        x = F.relu(F.max_pool2d(self.conv2(x), 2))\n",
    "        x = x.view(-1, 1600)\n",
    "        x = F.relu(self.fc1(x))\n",
    "        #x = F.dropout(x, training=self.training)\n",
    "        #if self.training: x = dropout_unif(x, 0.2)\n",
    "        x = self.fc2(x)\n",
    "        return F.log_softmax(x)\n",
    "\n",
    "\n",
    "model = Network()\n",
    "trainer = ModuleTrainer(model)\n",
    "\n",
    "callbacks = [ReduceLROnPlateau(factor=0.5, patience=5)]\n",
    "regularizers = [L1Regularizer(scale=1e-3, module_filter='conv*'),\n",
    "                L2Regularizer(scale=1e-5, module_filter='fc*')]\n",
    "constraints = [UnitNorm(frequency=3, unit='batch', module_filter='fc*')]\n",
    "initializers = [XavierUniform(bias=False, module_filter='fc*')]\n",
    "metrics = [CategoricalAccuracy(top_k=1)]\n",
    "\n",
    "trainer.compile(loss='nll_loss',\n",
    "                optimizer='adadelta',\n",
    "                constraints=constraints,\n",
    "                initializers=initializers,\n",
    "                metrics=metrics, \n",
    "                callbacks=callbacks)\n",
    "\n",
    "trainer.fit_loader(train_loader, val_loader, num_epoch=60, verbose=1)\n"
   ]
  },
  {
   "cell_type": "code",
   "execution_count": 97,
   "metadata": {},
   "outputs": [],
   "source": [
    "X = Variable(random((3,4)))"
   ]
  },
  {
   "cell_type": "code",
   "execution_count": 100,
   "metadata": {},
   "outputs": [
    {
     "data": {
      "text/plain": [
       "Variable containing:\n",
       " 0.7079  0.8122  0.4747  0.2893\n",
       " 0.0529  0.2860  0.4836  0.0669\n",
       " 0.1722  0.8933  0.3391  0.0574\n",
       "[torch.FloatTensor of size 3x4]"
      ]
     },
     "execution_count": 100,
     "metadata": {},
     "output_type": "execute_result"
    }
   ],
   "source": [
    "X"
   ]
  },
  {
   "cell_type": "code",
   "execution_count": 80,
   "metadata": {},
   "outputs": [
    {
     "data": {
      "text/plain": [
       "Variable containing:\n",
       " 0.6544  0.2849  0.4199  0.3139\n",
       " 0.4665  0.4309  0.1897  0.2691\n",
       " 0.0087  0.6961  0.5506  0.1508\n",
       "[torch.FloatTensor of size 3x4]"
      ]
     },
     "execution_count": 80,
     "metadata": {},
     "output_type": "execute_result"
    }
   ],
   "source": [
    "X"
   ]
  },
  {
   "cell_type": "code",
   "execution_count": 75,
   "metadata": {},
   "outputs": [],
   "source": [
    "P = th.randperm(len(X))"
   ]
  },
  {
   "cell_type": "code",
   "execution_count": null,
   "metadata": {},
   "outputs": [],
   "source": []
  }
 ],
 "metadata": {
  "kernelspec": {
   "display_name": "Python 3",
   "language": "python",
   "name": "python3"
  },
  "language_info": {
   "codemirror_mode": {
    "name": "ipython",
    "version": 3
   },
   "file_extension": ".py",
   "mimetype": "text/x-python",
   "name": "python",
   "nbconvert_exporter": "python",
   "pygments_lexer": "ipython3",
   "version": "3.5.2"
  }
 },
 "nbformat": 4,
 "nbformat_minor": 2
}
